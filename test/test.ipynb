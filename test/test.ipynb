{
 "cells": [
  {
   "cell_type": "code",
   "execution_count": 1,
   "id": "initial_id",
   "metadata": {
    "collapsed": true,
    "ExecuteTime": {
     "end_time": "2025-04-27T13:46:30.791529Z",
     "start_time": "2025-04-27T13:46:24.465227Z"
    }
   },
   "outputs": [],
   "source": [
    "from lotc.trainer import FileBinaryClassifierTrainer"
   ]
  },
  {
   "cell_type": "code",
   "outputs": [],
   "source": [
    "pos_data = './data/pos'\n",
    "neg_data = './data/neg'\n",
    "trainer = FileBinaryClassifierTrainer(\n",
    "    model_name='logistic_regression_example',\n",
    "    max_length=4096,\n",
    "    num_epochs=10,\n",
    "    train_loss_threshold=15\n",
    ")\n",
    "model = trainer.train(pos_data, neg_data)\n",
    "trainer.save(model)"
   ],
   "metadata": {
    "collapsed": false
   },
   "id": "8b441028a169b686",
   "execution_count": null
  },
  {
   "cell_type": "code",
   "outputs": [
    {
     "ename": "AttributeError",
     "evalue": "'FileBinaryClassifierTrainer' object has no attribute 'load'",
     "output_type": "error",
     "traceback": [
      "\u001B[1;31m---------------------------------------------------------------------------\u001B[0m",
      "\u001B[1;31mAttributeError\u001B[0m                            Traceback (most recent call last)",
      "Cell \u001B[1;32mIn[5], line 2\u001B[0m\n\u001B[0;32m      1\u001B[0m \u001B[38;5;28;01mfrom\u001B[39;00m\u001B[38;5;250m \u001B[39m\u001B[38;5;21;01mlotc\u001B[39;00m\u001B[38;5;21;01m.\u001B[39;00m\u001B[38;5;21;01membedding\u001B[39;00m\u001B[38;5;250m \u001B[39m\u001B[38;5;28;01mimport\u001B[39;00m long_text_embedding\n\u001B[1;32m----> 2\u001B[0m model \u001B[38;5;241m=\u001B[39m \u001B[43mtrainer\u001B[49m\u001B[38;5;241;43m.\u001B[39;49m\u001B[43mload\u001B[49m(model)\n\u001B[0;32m      3\u001B[0m model\u001B[38;5;241m.\u001B[39mpredict(long_text_embedding(\u001B[38;5;124m'\u001B[39m\u001B[38;5;124mhi\u001B[39m\u001B[38;5;124m'\u001B[39m, max_length\u001B[38;5;241m=\u001B[39m\u001B[38;5;241m4000\u001B[39m))\n",
      "\u001B[1;31mAttributeError\u001B[0m: 'FileBinaryClassifierTrainer' object has no attribute 'load'"
     ]
    }
   ],
   "source": [
    "from lotc.embedding import long_text_embedding\n",
    "model = trainer.load(model)\n",
    "model.predict(long_text_embedding('这是一个测试文本', max_length=4000, chunk_size=256))"
   ],
   "metadata": {
    "collapsed": false,
    "ExecuteTime": {
     "end_time": "2025-04-27T13:45:56.482825Z",
     "start_time": "2025-04-27T13:45:56.215818Z"
    }
   },
   "id": "daf8dad84526a6a7",
   "execution_count": 5
  }
 ],
 "metadata": {
  "kernelspec": {
   "display_name": "Python 3",
   "language": "python",
   "name": "python3"
  },
  "language_info": {
   "codemirror_mode": {
    "name": "ipython",
    "version": 2
   },
   "file_extension": ".py",
   "mimetype": "text/x-python",
   "name": "python",
   "nbconvert_exporter": "python",
   "pygments_lexer": "ipython2",
   "version": "2.7.6"
  }
 },
 "nbformat": 4,
 "nbformat_minor": 5
}
