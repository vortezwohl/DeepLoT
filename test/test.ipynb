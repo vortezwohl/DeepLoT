{
 "cells": [
  {
   "cell_type": "code",
   "outputs": [],
   "source": [
    "from lotc.trainer import FileBinaryClassifierTrainer\n",
    "\n",
    "pos_data = './data/pos'\n",
    "neg_data = './data/neg'\n",
    "trainer = FileBinaryClassifierTrainer(\n",
    "    model_name='logistic_regression_example',\n",
    "    max_length=4096,\n",
    "    num_epochs=20,\n",
    "    train_loss_threshold=4\n",
    ")"
   ],
   "metadata": {
    "collapsed": false,
    "ExecuteTime": {
     "end_time": "2025-04-27T16:06:39.899561Z",
     "start_time": "2025-04-27T16:06:39.888029Z"
    }
   },
   "id": "8b441028a169b686",
   "execution_count": 23
  },
  {
   "cell_type": "code",
   "outputs": [],
   "source": [
    "trainer.train(pos_data, neg_data)"
   ],
   "metadata": {
    "collapsed": false
   },
   "id": "3a4c4e31623b24e4",
   "execution_count": null
  },
  {
   "cell_type": "code",
   "outputs": [],
   "source": [
    "trainer.save()"
   ],
   "metadata": {
    "collapsed": false
   },
   "id": "fae72c7ed78dd895",
   "execution_count": null
  },
  {
   "cell_type": "code",
   "outputs": [],
   "source": [
    "from lotc.embedding import long_text_embedding\n",
    "model = trainer.load()\n",
    "model.predict(long_text_embedding('这是一个测试文本.', max_length=4096, chunk_size=256)[1])"
   ],
   "metadata": {
    "collapsed": false
   },
   "id": "daf8dad84526a6a7",
   "execution_count": null
  }
 ],
 "metadata": {
  "kernelspec": {
   "display_name": "Python 3",
   "language": "python",
   "name": "python3"
  },
  "language_info": {
   "codemirror_mode": {
    "name": "ipython",
    "version": 2
   },
   "file_extension": ".py",
   "mimetype": "text/x-python",
   "name": "python",
   "nbconvert_exporter": "python",
   "pygments_lexer": "ipython2",
   "version": "2.7.6"
  }
 },
 "nbformat": 4,
 "nbformat_minor": 5
}
