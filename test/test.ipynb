{
 "cells": [
  {
   "cell_type": "code",
   "outputs": [],
   "source": [
    "from lotc.trainer import FileBinaryClassifierTrainer\n",
    "\n",
    "trainer = FileBinaryClassifierTrainer(\n",
    "    max_length=1024,\n",
    "    chunk_size=256,\n",
    "    batch_size=4,\n",
    "    train_ratio=0.9\n",
    ")"
   ],
   "metadata": {
    "collapsed": false,
    "ExecuteTime": {
     "end_time": "2025-04-28T15:55:21.405004Z",
     "start_time": "2025-04-28T15:55:11.089158Z"
    }
   },
   "id": "8b441028a169b686",
   "execution_count": 1
  },
  {
   "cell_type": "code",
   "outputs": [],
   "source": [
    "from lotc.util.read_file import get_files, read_file\n",
    "\n",
    "pos_data_path = './data/pos'\n",
    "neg_data_path = './data/neg'\n",
    "pos_data = [read_file(x) for x in get_files(pos_data_path)]\n",
    "neg_data = [read_file(x) for x in get_files(neg_data_path)]\n",
    "model = trainer.train(pos_data, neg_data, num_epochs=20, learning_rate=2e-5)"
   ],
   "metadata": {
    "collapsed": false
   },
   "id": "3a4c4e31623b24e4",
   "execution_count": null
  },
  {
   "cell_type": "code",
   "outputs": [],
   "source": [
    "model.save()"
   ],
   "metadata": {
    "collapsed": false
   },
   "id": "fae72c7ed78dd895",
   "execution_count": null
  },
  {
   "cell_type": "code",
   "outputs": [],
   "source": [
    "from lotc.encoder import long_text_encoder\n",
    "\n",
    "model = model.load()\n",
    "model.predict(long_text_encoder('这是一个测试文本.', max_length=1024, chunk_size=256)[1])"
   ],
   "metadata": {
    "collapsed": false
   },
   "id": "daf8dad84526a6a7",
   "execution_count": null
  }
 ],
 "metadata": {
  "kernelspec": {
   "display_name": "Python 3",
   "language": "python",
   "name": "python3"
  },
  "language_info": {
   "codemirror_mode": {
    "name": "ipython",
    "version": 2
   },
   "file_extension": ".py",
   "mimetype": "text/x-python",
   "name": "python",
   "nbconvert_exporter": "python",
   "pygments_lexer": "ipython2",
   "version": "2.7.6"
  }
 },
 "nbformat": 4,
 "nbformat_minor": 5
}
