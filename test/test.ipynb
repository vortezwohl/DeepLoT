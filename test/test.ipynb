{
 "cells": [
  {
   "cell_type": "code",
   "outputs": [],
   "source": [
    "from lotc import FileBinaryClassifierTrainer, LongTextEncoder\n",
    "\n",
    "long_text_encoder = LongTextEncoder(\n",
    "    max_length=2048,\n",
    "    chunk_size=512,\n",
    "    overlapping=128\n",
    ")\n",
    "\n",
    "trainer = FileBinaryClassifierTrainer(\n",
    "    long_text_encoder=long_text_encoder,\n",
    "    batch_size=4,\n",
    "    train_ratio=0.9\n",
    ")"
   ],
   "metadata": {
    "collapsed": false,
    "ExecuteTime": {
     "end_time": "2025-04-28T18:15:31.728670Z",
     "start_time": "2025-04-28T18:15:20.471006Z"
    }
   },
   "id": "8b441028a169b686",
   "execution_count": 1
  },
  {
   "cell_type": "code",
   "outputs": [
    {
     "name": "stderr",
     "output_type": "stream",
     "text": [
      "[DEBUG] 2025-04-29 02:15:31,787 lotc.embedding : Embedding \"#章节 01某天喝多，我把不苟言笑，禁欲系的老板当成了白月光。一觉醒来，我紧张问：「昨天……我们……」他答：「怎么，江秘书不打算负责？」我觉得我要死了，肯定要被炒鱿鱼了，可老板却说放我一周的假让我好好休息休息。一周后他把我堵墙角，问道：「给了你一周时间，想...\".\n",
      "Token indices sequence length is longer than the specified maximum sequence length for this model (614 > 512). Running this sequence through the model will result in indexing errors\n",
      "Token indices sequence length is longer than the specified maximum sequence length for this model (743 > 512). Running this sequence through the model will result in indexing errors\n",
      "[DEBUG] 2025-04-29 02:15:33,409 lotc.embedding : Embedding \"#章节 01白月光一回来，陆景盛立马跟我提了离婚，我把孕检单塞进包包，强忍着泪意签下离婚协议：「既然这样，那我们好聚好散。」房子，车子，钱，资源……他都可以给我，唯独名分和爱，他永远只能给她。1、结婚三周年纪念日，当我满心欢喜想把怀孕的消息告诉他时，他先递...\".\n",
      "[DEBUG] 2025-04-29 02:15:34,978 lotc.embedding : Embedding \"《一介替身》人人嫉妒我只是一介替身，却能稳坐探花郎夫人之位。闻言我内心苦涩，表面仍旧操持着偌大的沈府。我意外失去孩子的那日，沈尧瑾还在花楼之上搂着美娇娘风花雪月。我主动送去了那纸和离书。「你不过是月娘的替身罢了，若不是你有几分像她，我怎么会娶你？」「替身就...\".\n",
      "[DEBUG] 2025-04-29 02:15:36,480 lotc.embedding : Embedding \"　　《五年寻妻路终点！总裁霸道追回马甲妈咪，萌宝助攻甜蜜升级！》　　1　　五年了。　　楚垚，不，现在应该叫艾薇，站在金碧辉煌的慈善拍卖会场入口，深吸一口气。　　红裙如火，衬得她肌肤胜雪，眉眼间是淬炼过的清冷和疏离。　　她是国际知名的珠宝设计师 艾薇，不是五...\".\n",
      "[DEBUG] 2025-04-29 02:15:38,137 lotc.trainer : Epoch 1/20 | Train Loss: 0.6943 | Valid Loss: 0.6547\n",
      "[DEBUG] 2025-04-29 02:15:38,139 lotc.trainer : Epoch 1/20 | Train Loss: 0.6943\n",
      "[DEBUG] 2025-04-29 02:15:38,165 lotc.trainer : Epoch 2/20 | Train Loss: 0.7102\n",
      "[DEBUG] 2025-04-29 02:15:38,195 lotc.trainer : Epoch 3/20 | Train Loss: 0.6602\n",
      "[DEBUG] 2025-04-29 02:15:38,230 lotc.trainer : Epoch 4/20 | Train Loss: 0.6746 | Valid Loss: 0.7734\n",
      "[DEBUG] 2025-04-29 02:15:38,232 lotc.trainer : Epoch 4/20 | Train Loss: 0.6746\n",
      "[DEBUG] 2025-04-29 02:15:38,264 lotc.trainer : Epoch 5/20 | Train Loss: 0.6262\n",
      "[DEBUG] 2025-04-29 02:15:38,290 lotc.trainer : Epoch 6/20 | Train Loss: 0.6122\n",
      "[DEBUG] 2025-04-29 02:15:38,317 lotc.trainer : Epoch 7/20 | Train Loss: 0.5988 | Valid Loss: 0.8597\n",
      "[DEBUG] 2025-04-29 02:15:38,318 lotc.trainer : Epoch 7/20 | Train Loss: 0.5988\n",
      "[DEBUG] 2025-04-29 02:15:38,342 lotc.trainer : Epoch 8/20 | Train Loss: 0.6261\n",
      "[DEBUG] 2025-04-29 02:15:38,368 lotc.trainer : Epoch 9/20 | Train Loss: 0.5831\n",
      "[DEBUG] 2025-04-29 02:15:38,396 lotc.trainer : Epoch 10/20 | Train Loss: 0.5700 | Valid Loss: 0.9312\n",
      "[DEBUG] 2025-04-29 02:15:38,398 lotc.trainer : Epoch 10/20 | Train Loss: 0.5700\n",
      "[DEBUG] 2025-04-29 02:15:38,419 lotc.trainer : Epoch 11/20 | Train Loss: 0.6351\n",
      "[DEBUG] 2025-04-29 02:15:38,444 lotc.trainer : Epoch 12/20 | Train Loss: 0.6140\n",
      "[DEBUG] 2025-04-29 02:15:38,471 lotc.trainer : Epoch 13/20 | Train Loss: 0.6100 | Valid Loss: 0.9775\n",
      "[DEBUG] 2025-04-29 02:15:38,472 lotc.trainer : Epoch 13/20 | Train Loss: 0.6100\n",
      "[DEBUG] 2025-04-29 02:15:38,495 lotc.trainer : Epoch 14/20 | Train Loss: 0.5739\n",
      "[DEBUG] 2025-04-29 02:15:38,518 lotc.trainer : Epoch 15/20 | Train Loss: 0.5803\n",
      "[DEBUG] 2025-04-29 02:15:38,546 lotc.trainer : Epoch 16/20 | Train Loss: 0.5509 | Valid Loss: 1.0151\n",
      "[DEBUG] 2025-04-29 02:15:38,547 lotc.trainer : Epoch 16/20 | Train Loss: 0.5509\n",
      "[DEBUG] 2025-04-29 02:15:38,572 lotc.trainer : Epoch 17/20 | Train Loss: 0.6172\n",
      "[DEBUG] 2025-04-29 02:15:38,597 lotc.trainer : Epoch 18/20 | Train Loss: 0.5359\n",
      "[DEBUG] 2025-04-29 02:15:38,623 lotc.trainer : Epoch 19/20 | Train Loss: 0.5655 | Valid Loss: 1.0477\n",
      "[DEBUG] 2025-04-29 02:15:38,624 lotc.trainer : Epoch 19/20 | Train Loss: 0.5655\n",
      "[DEBUG] 2025-04-29 02:15:38,647 lotc.trainer : Epoch 20/20 | Train Loss: 0.5366\n"
     ]
    }
   ],
   "source": [
    "from lotc.util import get_files, read_file\n",
    "\n",
    "pos_data_path = './data/pos'\n",
    "neg_data_path = './data/neg'\n",
    "pos_data = [read_file(x) for x in get_files(pos_data_path)]\n",
    "neg_data = [read_file(x) for x in get_files(neg_data_path)]\n",
    "model = trainer.train(pos_data[:2], neg_data[:2], num_epochs=20, learning_rate=2e-5)"
   ],
   "metadata": {
    "collapsed": false,
    "ExecuteTime": {
     "end_time": "2025-04-28T18:15:38.662017Z",
     "start_time": "2025-04-28T18:15:31.731662Z"
    }
   },
   "id": "3a4c4e31623b24e4",
   "execution_count": 2
  },
  {
   "cell_type": "code",
   "outputs": [
    {
     "data": {
      "text/plain": "LogisticRegression(\n  (fc1): Linear(in_features=3072, out_features=1024, bias=True)\n  (fc1_to_fc4_res): Linear(in_features=1024, out_features=64, bias=True)\n  (fc2): Linear(in_features=1024, out_features=768, bias=True)\n  (fc3): Linear(in_features=768, out_features=128, bias=True)\n  (fc4): Linear(in_features=128, out_features=64, bias=True)\n  (fc5): Linear(in_features=64, out_features=1, bias=True)\n  (leaky_relu): LeakyReLU(negative_slope=0.05)\n)"
     },
     "execution_count": 3,
     "metadata": {},
     "output_type": "execute_result"
    }
   ],
   "source": [
    "model.save()"
   ],
   "metadata": {
    "collapsed": false,
    "ExecuteTime": {
     "end_time": "2025-04-28T18:15:38.707536Z",
     "start_time": "2025-04-28T18:15:38.665023Z"
    }
   },
   "id": "fae72c7ed78dd895",
   "execution_count": 3
  },
  {
   "cell_type": "code",
   "outputs": [
    {
     "name": "stderr",
     "output_type": "stream",
     "text": [
      "[DEBUG] 2025-04-29 02:15:38,712 lotc.embedding : Embedding \"这是一个测试文本.\".\n",
      "[DEBUG] 2025-04-29 02:15:40,287 lotc.embedding : Embedding \"这是一个测试文本.\".\n"
     ]
    },
    {
     "name": "stdout",
     "output_type": "stream",
     "text": [
      "tensor([-0.0751,  0.4202,  0.5091,  ..., -0.2156,  0.4021, -0.1609])\n"
     ]
    },
    {
     "data": {
      "text/plain": "tensor([0.5003])"
     },
     "execution_count": 4,
     "metadata": {},
     "output_type": "execute_result"
    }
   ],
   "source": [
    "# model = model.load()\n",
    "print(long_text_encoder.encode('这是一个测试文本.'))\n",
    "model.predict(long_text_encoder.encode('这是一个测试文本.').squeeze())"
   ],
   "metadata": {
    "collapsed": false,
    "ExecuteTime": {
     "end_time": "2025-04-28T18:15:40.298279Z",
     "start_time": "2025-04-28T18:15:38.709538Z"
    }
   },
   "id": "daf8dad84526a6a7",
   "execution_count": 4
  }
 ],
 "metadata": {
  "kernelspec": {
   "display_name": "Python 3",
   "language": "python",
   "name": "python3"
  },
  "language_info": {
   "codemirror_mode": {
    "name": "ipython",
    "version": 2
   },
   "file_extension": ".py",
   "mimetype": "text/x-python",
   "name": "python",
   "nbconvert_exporter": "python",
   "pygments_lexer": "ipython2",
   "version": "2.7.6"
  }
 },
 "nbformat": 4,
 "nbformat_minor": 5
}
