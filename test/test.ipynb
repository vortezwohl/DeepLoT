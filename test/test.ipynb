{
 "cells": [
  {
   "cell_type": "code",
   "execution_count": null,
   "id": "initial_id",
   "metadata": {
    "collapsed": true,
    "is_executing": true,
    "ExecuteTime": {
     "start_time": "2025-04-27T13:24:17.857886Z"
    }
   },
   "outputs": [],
   "source": [
    "from lotc.trainer import FileBinaryClassifierTrainer"
   ]
  },
  {
   "cell_type": "code",
   "outputs": [],
   "source": [
    "pos_data = './data/pos'\n",
    "neg_data = './data/neg'\n",
    "trainer = FileBinaryClassifierTrainer(\n",
    "    model_name='logistic_regression_example',\n",
    "    max_length=4000,\n",
    "    num_epochs=1000,\n",
    "    train_loss_threshold=20\n",
    ")\n",
    "model = trainer.train(pos_data, neg_data)\n",
    "trainer.save(model)"
   ],
   "metadata": {
    "collapsed": false,
    "is_executing": true
   },
   "id": "8b441028a169b686",
   "execution_count": null
  }
 ],
 "metadata": {
  "kernelspec": {
   "display_name": "Python 3",
   "language": "python",
   "name": "python3"
  },
  "language_info": {
   "codemirror_mode": {
    "name": "ipython",
    "version": 2
   },
   "file_extension": ".py",
   "mimetype": "text/x-python",
   "name": "python",
   "nbconvert_exporter": "python",
   "pygments_lexer": "ipython2",
   "version": "2.7.6"
  }
 },
 "nbformat": 4,
 "nbformat_minor": 5
}
