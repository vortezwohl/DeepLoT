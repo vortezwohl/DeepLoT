{
 "cells": [
  {
   "cell_type": "code",
   "execution_count": 4,
   "id": "initial_id",
   "metadata": {
    "collapsed": true,
    "ExecuteTime": {
     "end_time": "2025-04-27T12:22:59.714216Z",
     "start_time": "2025-04-27T12:22:59.699217Z"
    }
   },
   "outputs": [],
   "source": [
    "from ltc.trainer import FileBinaryClassifierTrainer"
   ]
  },
  {
   "cell_type": "code",
   "outputs": [],
   "source": [
    "pos_data = './data/pos'\n",
    "neg_data = './data/neg'\n",
    "trainer = FileBinaryClassifierTrainer(\n",
    "    model_name='logistic_regression_example',\n",
    "    max_length=4000,\n",
    "    num_epochs=1000\n",
    ")\n",
    "model = trainer.train(pos_data, neg_data)\n",
    "trainer.save(model)"
   ],
   "metadata": {
    "collapsed": false,
    "is_executing": true,
    "ExecuteTime": {
     "start_time": "2025-04-27T12:22:59.715224Z"
    }
   },
   "id": "8b441028a169b686",
   "execution_count": null
  }
 ],
 "metadata": {
  "kernelspec": {
   "display_name": "Python 3",
   "language": "python",
   "name": "python3"
  },
  "language_info": {
   "codemirror_mode": {
    "name": "ipython",
    "version": 2
   },
   "file_extension": ".py",
   "mimetype": "text/x-python",
   "name": "python",
   "nbconvert_exporter": "python",
   "pygments_lexer": "ipython2",
   "version": "2.7.6"
  }
 },
 "nbformat": 4,
 "nbformat_minor": 5
}
