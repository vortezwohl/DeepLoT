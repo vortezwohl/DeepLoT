{
 "cells": [
  {
   "cell_type": "code",
   "execution_count": 2,
   "id": "initial_id",
   "metadata": {
    "collapsed": true,
    "ExecuteTime": {
     "end_time": "2025-04-27T13:17:10.291285Z",
     "start_time": "2025-04-27T13:17:05.604447Z"
    }
   },
   "outputs": [],
   "source": [
    "from lotc.trainer import FileBinaryClassifierTrainer"
   ]
  },
  {
   "cell_type": "code",
   "outputs": [
    {
     "ename": "NameError",
     "evalue": "name 'FileBinaryClassifierTrainer' is not defined",
     "output_type": "error",
     "traceback": [
      "\u001B[1;31m---------------------------------------------------------------------------\u001B[0m",
      "\u001B[1;31mNameError\u001B[0m                                 Traceback (most recent call last)",
      "Cell \u001B[1;32mIn[1], line 3\u001B[0m\n\u001B[0;32m      1\u001B[0m pos_data \u001B[38;5;241m=\u001B[39m \u001B[38;5;124m'\u001B[39m\u001B[38;5;124m./data/pos\u001B[39m\u001B[38;5;124m'\u001B[39m\n\u001B[0;32m      2\u001B[0m neg_data \u001B[38;5;241m=\u001B[39m \u001B[38;5;124m'\u001B[39m\u001B[38;5;124m./data/neg\u001B[39m\u001B[38;5;124m'\u001B[39m\n\u001B[1;32m----> 3\u001B[0m trainer \u001B[38;5;241m=\u001B[39m \u001B[43mFileBinaryClassifierTrainer\u001B[49m(\n\u001B[0;32m      4\u001B[0m     model_name\u001B[38;5;241m=\u001B[39m\u001B[38;5;124m'\u001B[39m\u001B[38;5;124mlogistic_regression_example\u001B[39m\u001B[38;5;124m'\u001B[39m,\n\u001B[0;32m      5\u001B[0m     max_length\u001B[38;5;241m=\u001B[39m\u001B[38;5;241m4000\u001B[39m,\n\u001B[0;32m      6\u001B[0m     num_epochs\u001B[38;5;241m=\u001B[39m\u001B[38;5;241m1000\u001B[39m\n\u001B[0;32m      7\u001B[0m )\n\u001B[0;32m      8\u001B[0m model \u001B[38;5;241m=\u001B[39m trainer\u001B[38;5;241m.\u001B[39mtrain(pos_data, neg_data)\n\u001B[0;32m      9\u001B[0m trainer\u001B[38;5;241m.\u001B[39msave(model)\n",
      "\u001B[1;31mNameError\u001B[0m: name 'FileBinaryClassifierTrainer' is not defined"
     ]
    }
   ],
   "source": [
    "pos_data = './data/pos'\n",
    "neg_data = './data/neg'\n",
    "trainer = FileBinaryClassifierTrainer(\n",
    "    model_name='logistic_regression_example',\n",
    "    max_length=4000,\n",
    "    num_epochs=1000\n",
    ")\n",
    "model = trainer.train(pos_data, neg_data)\n",
    "trainer.save(model)"
   ],
   "metadata": {
    "collapsed": false,
    "ExecuteTime": {
     "end_time": "2025-04-27T13:17:03.453913Z",
     "start_time": "2025-04-27T13:17:03.252902Z"
    }
   },
   "id": "8b441028a169b686",
   "execution_count": 1
  }
 ],
 "metadata": {
  "kernelspec": {
   "display_name": "Python 3",
   "language": "python",
   "name": "python3"
  },
  "language_info": {
   "codemirror_mode": {
    "name": "ipython",
    "version": 2
   },
   "file_extension": ".py",
   "mimetype": "text/x-python",
   "name": "python",
   "nbconvert_exporter": "python",
   "pygments_lexer": "ipython2",
   "version": "2.7.6"
  }
 },
 "nbformat": 4,
 "nbformat_minor": 5
}
